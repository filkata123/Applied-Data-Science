{
 "cells": [
  {
   "cell_type": "markdown",
   "metadata": {},
   "source": [
    "# Drowsiness Detection OpenCV\n",
    "\n",
    "\n",
    "This code can detect your eyes and alert when the user is drowsy.\n"
   ]
  },
  {
   "cell_type": "code",
   "execution_count": 1,
   "metadata": {},
   "outputs": [],
   "source": [
    "#based on https://www.pyimagesearch.com/2017/05/08/drowsiness-detection-opencv/\n",
    "from scipy.spatial import distance\n",
    "from imutils import face_utils\n",
    "import imutils\n",
    "import dlib\n",
    "import cv2"
   ]
  },
  {
   "cell_type": "code",
   "execution_count": 2,
   "metadata": {},
   "outputs": [],
   "source": [
    "def eye_aspect_ratio(eye): #measure when eyelids are closed\n",
    "\tA = distance.euclidean(eye[1], eye[5])\n",
    "\tB = distance.euclidean(eye[2], eye[4])\n",
    "\tC = distance.euclidean(eye[0], eye[3])\n",
    "\tear = (A + B) / (2.0 * C)\n",
    "\treturn ear"
   ]
  },
  {
   "cell_type": "code",
   "execution_count": 3,
   "metadata": {},
   "outputs": [],
   "source": [
    "thresh = 0.25\n",
    "frame_check = 20\n",
    "detect = dlib.get_frontal_face_detector() #create a face detector\n",
    "predict = dlib.shape_predictor(\"shape_predictor_68_face_landmarks.dat\") #get data that contain faces"
   ]
  },
  {
   "cell_type": "code",
   "execution_count": 4,
   "metadata": {},
   "outputs": [],
   "source": [
    "(lStart, lEnd) = face_utils.FACIAL_LANDMARKS_IDXS[\"left_eye\"] #get array values that are only of the left eye\n",
    "(rStart, rEnd) = face_utils.FACIAL_LANDMARKS_IDXS[\"right_eye\"] #get array values that are only of the right eye"
   ]
  },
  {
   "cell_type": "code",
   "execution_count": 5,
   "metadata": {},
   "outputs": [],
   "source": [
    "cap=cv2.VideoCapture(0)#start video\n",
    "flag=0\n",
    "while True:\n",
    "    ret, frame=cap.read() #read frame\n",
    "    frame = imutils.resize(frame, width=450) #reshape frame\n",
    "    gray = cv2.cvtColor(frame, cv2.COLOR_BGR2GRAY) # make frame grayscale\n",
    "    subjects = detect(gray, 0) # detect faces in gray image\n",
    "    for subject in subjects:\n",
    "        shape = predict(gray, subject) #predict face features based on faces in gray image\n",
    "        shape = face_utils.shape_to_np(shape)#converting to NumPy Array\n",
    "        leftEye = shape[lStart:lEnd] #left eye array points\n",
    "        rightEye = shape[rStart:rEnd] #right eye array points\n",
    "        leftEAR = eye_aspect_ratio(leftEye) # eye aspect ratio of left eye\n",
    "        rightEAR = eye_aspect_ratio(rightEye) # eye aspect ratio of right eye\n",
    "        ear = (leftEAR + rightEAR) / 2.0 #use average of both aspect ratios -> better estimation\n",
    "        leftEyeHull = cv2.convexHull(leftEye) #get convex hull of left eye (a circle connecting all outer points of array)\n",
    "        rightEyeHull = cv2.convexHull(rightEye) #get convex hull of right eye\n",
    "        cv2.drawContours(frame, [leftEyeHull], -1, (0, 255, 0), 1) #draw based on convex hulls\n",
    "        cv2.drawContours(frame, [rightEyeHull], -1, (0, 255, 0), 1)\n",
    "        # if eye aspect ratio is lower than threshold (eyes are drowsy) increase flag\n",
    "        if ear < thresh:\n",
    "            flag += 1\n",
    "            #print (flag)\n",
    "            if flag >= frame_check: #if eyes have been closed for too long -> alert\n",
    "                cv2.putText(frame, \"****************ALERT!****************\", (10, 30),\n",
    "                    cv2.FONT_HERSHEY_SIMPLEX, 0.7, (0, 0, 255), 2)\n",
    "                cv2.putText(frame, \"****************ALERT!****************\", (10,325),\n",
    "                    cv2.FONT_HERSHEY_SIMPLEX, 0.7, (0, 0, 255), 2)\n",
    "        else:\n",
    "            flag = 0\n",
    "    cv2.imshow(\"Frame\", frame) #show frame\n",
    "    key = cv2.waitKey(1) & 0xFF #get pressed key\n",
    "    if key == ord(\"q\"): #close if key is q\n",
    "        cv2.destroyAllWindows()\n",
    "        cap.release()\n",
    "        break\n"
   ]
  },
  {
   "cell_type": "code",
   "execution_count": null,
   "metadata": {},
   "outputs": [],
   "source": []
  }
 ],
 "metadata": {
  "kernelspec": {
   "display_name": "Python 3",
   "language": "python",
   "name": "python3"
  },
  "language_info": {
   "codemirror_mode": {
    "name": "ipython",
    "version": 3
   },
   "file_extension": ".py",
   "mimetype": "text/x-python",
   "name": "python",
   "nbconvert_exporter": "python",
   "pygments_lexer": "ipython3",
   "version": "3.7.3"
  }
 },
 "nbformat": 4,
 "nbformat_minor": 2
}
